{
  "nbformat": 4,
  "nbformat_minor": 0,
  "metadata": {
    "colab": {
      "provenance": []
    },
    "kernelspec": {
      "name": "python3",
      "display_name": "Python 3"
    },
    "language_info": {
      "name": "python"
    }
  },
  "cells": [
    {
      "cell_type": "code",
      "source": [
        "!pip3 install beautifulsoup\n",
        "!pip3 install textblob"
      ],
      "metadata": {
        "id": "CdWdVIYl0xhJ"
      },
      "execution_count": null,
      "outputs": []
    },
    {
      "cell_type": "code",
      "source": [
        "def binary_sentiment_classification(url):\n",
        "  import requests\n",
        "  from bs4 import BeautifulSoup\n",
        "  page = requests.get(url)\n",
        "  soup = BeautifulSoup(page.content, \"html.parser\")\n",
        "  soup=soup.title\n",
        "  soup=soup.get_text()\n",
        "  from textblob import TextBlob\n",
        "  blob=TextBlob(soup)\n",
        "  sentiment=blob.sentiment\n",
        "  print(\"Topic of the article is: \",soup)\n",
        "  if (sentiment.polarity>0.5) or (sentiment.subjectivity>0.5):\n",
        "    print(\"The news is positive\")\n",
        "  else:\n",
        "    print(\"The news is negative\")"
      ],
      "metadata": {
        "id": "q0KZojU34NXh"
      },
      "execution_count": null,
      "outputs": []
    },
    {
      "cell_type": "code",
      "source": [
        "binary_sentiment_classification(\"https://timesofindia.indiatimes.com/entertainment/hindi/bollywood/news/karan-johar-wraps-up-2022-with-a-heartfelt-video-reveals-he-is-grateful-for-everything/articleshow/96510209.cms\")"
      ],
      "metadata": {
        "colab": {
          "base_uri": "https://localhost:8080/"
        },
        "id": "Vjg7UYsO6mz2",
        "outputId": "9d11e9e4-52b0-47cd-d0fe-866f684d8e6d"
      },
      "execution_count": null,
      "outputs": [
        {
          "output_type": "stream",
          "name": "stdout",
          "text": [
            "Topic of the article is  Karan Johar wraps up 2022 with a heartfelt video, reveals he is grateful for everything | Hindi Movie News - Times of India\n",
            "\t\t\t\n",
            "The news is positive\n"
          ]
        }
      ]
    },
    {
      "cell_type": "code",
      "source": [],
      "metadata": {
        "id": "jlvD8OC5AvFP"
      },
      "execution_count": null,
      "outputs": []
    }
  ]
}